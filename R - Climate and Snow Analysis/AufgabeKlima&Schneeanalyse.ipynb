{
 "cells": [
  {
   "cell_type": "markdown",
   "metadata": {},
   "source": [
    "# Aufgabe zur Klima- und Schneeanalyse"
   ]
  },
  {
   "cell_type": "markdown",
   "metadata": {},
   "source": [
    "Analysiert je für eine Station (Ramsau am Dachstein bzw. Station Patscherkofel) die Veränderung der Schneedeckentage im Zusammenhang mit der Veränderung von Temperatur und Niederschlag. Ihr findet dazu im bereitgestellten Ordner die entsprechenden Daten zu Schnee- (Snow*.csv) und Klimabedingungen (Meteo*.dat). \n",
    "\n",
    "Die Schneeinformation liegt vor in cm Schneehöhe, ein Wert von -1 repräsentiert keinen vorhanden Schnee (für die Aggregierungen muss dieser Wert entsprechend behandelt werden). Ein Schneedeckentag ist hier definiert als ein Tag mit einer Schneehöhe von > 0 cm.\n",
    "\n",
    "Stellt die Änderung für Temperatur, Niederschlag und Schneedeckentage i) als Trend (inklusive Signifikanztest) über den Zeitraum 1995-2015 als Diagramm dar, sowie ii) als Vergleich der mittleren monatlichen Verhältnisse 1995-2004 vs 2005-2014.\n",
    "\n",
    "\n",
    "Zu Berücksichtigen:\n",
    "\n",
    "1) Die Schneedaten haben ein seltsames Datum (z.B. 19800120 für den 20.01.1980) ohne Trennzeichen, dieses Datum wird automatisch zunächst als Zahl eingelesen. Ihr müsst also um diese Zahl in ein Datum zu konvertieren, diese zunächst in eine Zeichenfolge (Character) verwandeln - da die Datumsinformation hier nicht eindeutig ist, muss noch angeben werden, dass die Jahresinformation direkt von einer Monats- und dann Tagesinformation gefolgt wird (\"%Y%m%d\"): \n",
    "\n",
    "\n",
    "\n"
   ]
  },
  {
   "cell_type": "code",
   "execution_count": 1,
   "metadata": {},
   "outputs": [],
   "source": [
    "# mydata_snow$datum = as.Date(as.character(mydata_snow$datum), \"%Y%m%d\")"
   ]
  },
  {
   "cell_type": "markdown",
   "metadata": {},
   "source": [
    "2) Bei der Berechnung der monatlichen Niederschlagsmengen und Schneedeckentage müsst Ihr besonders aufpassen, diese müssen zunächst auf Monatswerte in den Jahren gebracht werden, um dann über die Jahre im Zeitraum zu Mitteln (siehe auch R-Einführung). Bedenkt dass jede Gruppierung das Datum in einen Character verwandelt, das müssen gegebenenfalls durch „as.date()“ wieder korrigieren."
   ]
  }
 ],
 "metadata": {
  "kernelspec": {
   "display_name": "R",
   "language": "R",
   "name": "ir"
  },
  "language_info": {
   "codemirror_mode": "r",
   "file_extension": ".r",
   "mimetype": "text/x-r-source",
   "name": "R",
   "pygments_lexer": "r",
   "version": "3.5.0"
  }
 },
 "nbformat": 4,
 "nbformat_minor": 2
}
